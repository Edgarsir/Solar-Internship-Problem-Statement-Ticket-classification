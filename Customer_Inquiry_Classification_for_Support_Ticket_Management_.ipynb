{
  "cells": [
    {
      "cell_type": "markdown",
      "source": [
        "# **Import Necessary Libraries**"
      ],
      "metadata": {
        "id": "7LTtnavqjgu7"
      }
    },
    {
      "cell_type": "code",
      "execution_count": 2,
      "metadata": {
        "colab": {
          "base_uri": "https://localhost:8080/"
        },
        "id": "3wzGjRDWlNDG",
        "outputId": "251cbb71-d1d4-4e8b-84cc-a7552dc52c34"
      },
      "outputs": [
        {
          "output_type": "stream",
          "name": "stdout",
          "text": [
            "Columns in the dataset:\n",
            "Index(['_index', '_type', '_id', '_score', '_source.tags', '_source.zip_code',\n",
            "       '_source.complaint_id', '_source.issue', '_source.date_received',\n",
            "       '_source.state', '_source.consumer_disputed', '_source.product',\n",
            "       '_source.company_response', '_source.company', '_source.submitted_via',\n",
            "       '_source.date_sent_to_company', '_source.company_public_response',\n",
            "       '_source.sub_product', '_source.timely',\n",
            "       '_source.complaint_what_happened', '_source.sub_issue',\n",
            "       '_source.consumer_consent_provided'],\n",
            "      dtype='object')\n",
            "                         inquiry_text                     category\n",
            "0   Attempts to collect debt not owed              Debt collection\n",
            "1     Written notification about debt              Debt collection\n",
            "2  Other features, terms, or problems  Credit card or prepaid card\n",
            "3      Trouble during payment process                     Mortgage\n",
            "4                    Fees or interest  Credit card or prepaid card\n"
          ]
        }
      ],
      "source": [
        "import pandas as pd\n",
        "from sklearn.model_selection import train_test_split\n",
        "from sklearn.feature_extraction.text import TfidfVectorizer\n",
        "from sklearn.naive_bayes import MultinomialNB\n",
        "from sklearn.metrics import classification_report, accuracy_score\n",
        "from sklearn.pipeline import Pipeline\n",
        "data = pd.read_csv('/content/complaints.csv', low_memory=False)\n",
        "print(\"Columns in the dataset:\")\n",
        "print(data.columns)\n",
        "data.rename(columns={'_source.issue': 'inquiry_text', '_source.product': 'category'}, inplace=True)\n",
        "print(data[['inquiry_text', 'category']].head())\n",
        "data.dropna(subset=['inquiry_text', 'category'], inplace=True)\n",
        "X = data['inquiry_text']\n",
        "y = data['category']\n",
        "X_train, X_test, y_train, y_test = train_test_split(X, y, test_size=0.2, random_state=42)\n",
        "\n",
        "# Create a pipeline with TF-IDF and Naive Bayes classifier\n",
        "pipeline = Pipeline([\n",
        "    ('tfidf', TfidfVectorizer(stop_words='english', max_df=0.95)),\n",
        "    ('clf', MultinomialNB())\n",
        "])\n",
        "pipeline.fit(X_train, y_train)\n",
        "y_pred = pipeline.predict(X_test)"
      ]
    },
    {
      "cell_type": "markdown",
      "source": [
        "# **Real-time Classification Function**\n",
        "# **Define a function for real-time classification of new inquiries.**"
      ],
      "metadata": {
        "id": "PWZYQDG7jCAe"
      }
    },
    {
      "cell_type": "markdown",
      "source": [
        "# **Insights on Common Inquiries (Keyword Extraction)**\n",
        "# Analyze keywords to identify trends in customer inquiries."
      ],
      "metadata": {
        "id": "JFPaXQBzitCb"
      }
    },
    {
      "cell_type": "markdown",
      "source": [
        "# **Hyperparameter Tuning with GridSearchCV**"
      ],
      "metadata": {
        "id": "9Qe6YgUcigZD"
      }
    },
    {
      "cell_type": "code",
      "execution_count": 7,
      "metadata": {
        "colab": {
          "base_uri": "https://localhost:8080/"
        },
        "id": "3JFmvKiOmDQS",
        "outputId": "55152f89-67f0-46b2-c46f-d4ed48f25335"
      },
      "outputs": [
        {
          "output_type": "stream",
          "name": "stderr",
          "text": [
            "/usr/local/lib/python3.10/dist-packages/sklearn/model_selection/_split.py:776: UserWarning: The least populated class in y has only 3 members, which is less than n_splits=5.\n",
            "  warnings.warn(\n"
          ]
        },
        {
          "output_type": "stream",
          "name": "stdout",
          "text": [
            "Best Parameters: {'clf__alpha': 0.1, 'tfidf__max_df': 0.75, 'tfidf__ngram_range': (1, 2)}\n",
            "Best Score: 0.945578231292517\n"
          ]
        }
      ],
      "source": [
        "from sklearn.model_selection import GridSearchCV\n",
        "from sklearn.naive_bayes import MultinomialNB\n",
        "from sklearn.feature_extraction.text import TfidfVectorizer\n",
        "from sklearn.pipeline import Pipeline\n",
        "pipeline = Pipeline([\n",
        "    ('tfidf', TfidfVectorizer(stop_words='english')),\n",
        "    ('clf', MultinomialNB())\n",
        "])\n",
        "# Define parameter grid\n",
        "param_grid = {\n",
        "    'tfidf__max_df': [0.75, 0.85, 0.95],\n",
        "    'tfidf__ngram_range': [(1, 1), (1, 2)],\n",
        "    'clf__alpha': [0.1, 0.5, 1.0]\n",
        "}\n",
        "# Set up GridSearchCV\n",
        "grid_search = GridSearchCV(pipeline, param_grid, cv=5, scoring='accuracy', n_jobs=-1)\n",
        "grid_search.fit(X_train, y_train)\n",
        "# Best parameters and score\n",
        "print(\"Best Parameters:\", grid_search.best_params_)\n",
        "print(\"Best Score:\", grid_search.best_score_)\n"
      ]
    },
    {
      "cell_type": "markdown",
      "source": [
        "# **You can add these models to your existing pipeline, which helps manage preprocessing (TF-IDF) and model training in one step.**"
      ],
      "metadata": {
        "id": "ho3hRcpVhqhb"
      }
    },
    {
      "cell_type": "code",
      "execution_count": 8,
      "metadata": {
        "colab": {
          "base_uri": "https://localhost:8080/"
        },
        "id": "8eOVMPx7mDkZ",
        "outputId": "a0be612f-7f3d-4daf-8403-ac0a296cbea4"
      },
      "outputs": [
        {
          "output_type": "stream",
          "name": "stdout",
          "text": [
            "Accuracy: 0.9573291871814805\n"
          ]
        },
        {
          "output_type": "stream",
          "name": "stderr",
          "text": [
            "/usr/local/lib/python3.10/dist-packages/sklearn/metrics/_classification.py:1531: UndefinedMetricWarning: Precision is ill-defined and being set to 0.0 in labels with no predicted samples. Use `zero_division` parameter to control this behavior.\n",
            "  _warn_prf(average, modifier, f\"{metric.capitalize()} is\", len(result))\n",
            "/usr/local/lib/python3.10/dist-packages/sklearn/metrics/_classification.py:1531: UndefinedMetricWarning: Precision is ill-defined and being set to 0.0 in labels with no predicted samples. Use `zero_division` parameter to control this behavior.\n",
            "  _warn_prf(average, modifier, f\"{metric.capitalize()} is\", len(result))\n"
          ]
        },
        {
          "output_type": "stream",
          "name": "stdout",
          "text": [
            "                                                                              precision    recall  f1-score   support\n",
            "\n",
            "                                                     Bank account or service       1.00      1.00      1.00      1203\n",
            "                                                 Checking or savings account       0.92      1.00      0.95      2117\n",
            "                                                               Consumer Loan       0.68      1.00      0.81       138\n",
            "                                                                 Credit card       0.96      1.00      0.98      1321\n",
            "                                                 Credit card or prepaid card       1.00      0.85      0.92      1914\n",
            "                                                            Credit reporting       1.00      0.88      0.94        17\n",
            "Credit reporting, credit repair services, or other personal consumer reports       0.84      1.00      0.91       724\n",
            "                                                             Debt collection       1.00      1.00      1.00       458\n",
            "                          Money transfer, virtual currency, or money service       0.89      1.00      0.94       253\n",
            "                                                             Money transfers       1.00      0.24      0.39        29\n",
            "                                                                    Mortgage       1.00      0.98      0.99      3105\n",
            "                                                     Other financial service       0.00      0.00      0.00         8\n",
            "                                                                 Payday loan       0.00      0.00      0.00         1\n",
            "                                   Payday loan, title loan, or personal loan       0.86      0.66      0.75        29\n",
            "                                                                Prepaid card       0.00      0.00      0.00         3\n",
            "                                                                Student loan       0.97      0.80      0.87       113\n",
            "                                                       Vehicle loan or lease       0.97      0.52      0.68       144\n",
            "\n",
            "                                                                    accuracy                           0.96     11577\n",
            "                                                                   macro avg       0.77      0.70      0.71     11577\n",
            "                                                                weighted avg       0.96      0.96      0.96     11577\n",
            "\n"
          ]
        },
        {
          "output_type": "stream",
          "name": "stderr",
          "text": [
            "/usr/local/lib/python3.10/dist-packages/sklearn/metrics/_classification.py:1531: UndefinedMetricWarning: Precision is ill-defined and being set to 0.0 in labels with no predicted samples. Use `zero_division` parameter to control this behavior.\n",
            "  _warn_prf(average, modifier, f\"{metric.capitalize()} is\", len(result))\n"
          ]
        }
      ],
      "source": [
        "from sklearn.linear_model import LogisticRegression\n",
        "from sklearn.pipeline import Pipeline\n",
        "# Create a pipeline with TF-IDF and Logistic Regression\n",
        "pipeline = Pipeline([\n",
        "    ('tfidf', TfidfVectorizer(stop_words='english', max_df=0.95)),\n",
        "    ('clf', LogisticRegression(solver='liblinear', C=1.0))\n",
        "])\n",
        "# Train the logistic regression model\n",
        "pipeline.fit(X_train, y_train)\n",
        "y_pred = pipeline.predict(X_test)\n",
        "print(\"Accuracy:\", accuracy_score(y_test, y_pred))\n",
        "print(classification_report(y_test, y_pred))\n"
      ]
    },
    {
      "cell_type": "code",
      "execution_count": 11,
      "metadata": {
        "colab": {
          "base_uri": "https://localhost:8080/"
        },
        "id": "o26eHU9O0Doj",
        "outputId": "fa46ba1d-9a46-430b-da62-7c42952154b6"
      },
      "outputs": [
        {
          "output_type": "stream",
          "name": "stderr",
          "text": [
            "<ipython-input-11-4a33bfb0e508>:6: DtypeWarning: Columns (16) have mixed types. Specify dtype option on import or set low_memory=False.\n",
            "  data = pd.read_csv('/content/complaints.csv')\n"
          ]
        },
        {
          "output_type": "execute_result",
          "data": {
            "text/plain": [
              "(0.9732272069464544,\n",
              " '                                                                              precision    recall  f1-score   support\\n\\n                                                     Bank account or service       1.00      1.00      1.00      2897\\n                                                 Checking or savings account       1.00      1.00      1.00      3625\\n                                                               Consumer Loan       0.71      0.99      0.83       325\\n                                                                 Credit card       0.96      0.98      0.97      3166\\n                                                 Credit card or prepaid card       1.00      0.95      0.98      3158\\n                                                            Credit reporting       1.00      0.93      0.97        46\\nCredit reporting, credit repair services, or other personal consumer reports       0.82      1.00      0.90      1325\\n                                                             Debt collection       1.00      1.00      1.00       964\\n                          Money transfer, virtual currency, or money service       0.85      1.00      0.92       465\\n                                                             Money transfers       1.00      0.33      0.50        82\\n                                                                    Mortgage       1.00      0.98      0.99      6817\\n                                                     Other financial service       1.00      0.14      0.24        22\\n                                                                 Payday loan       0.00      0.00      0.00         1\\n                                   Payday loan, title loan, or personal loan       0.90      0.72      0.80        39\\n                                                                Prepaid card       0.89      0.80      0.84        10\\n                                                                Student loan       0.99      0.84      0.91       267\\n                                                       Vehicle loan or lease       0.96      0.54      0.70       285\\n\\n                                                                    accuracy                           0.97     23494\\n                                                                   macro avg       0.89      0.78      0.80     23494\\n                                                                weighted avg       0.98      0.97      0.97     23494\\n',\n",
              " array([[2897,    0,    0,    0,    0,    0,    0,    0,    0,    0,    0,\n",
              "            0,    0,    0,    0,    0,    0],\n",
              "        [   0, 3616,    0,    0,    0,    0,    9,    0,    0,    0,    0,\n",
              "            0,    0,    0,    0,    0,    0],\n",
              "        [   0,    0,  322,    0,    0,    0,    0,    0,    0,    0,    0,\n",
              "            0,    1,    2,    0,    0,    0],\n",
              "        [   0,    0,    0, 3107,    0,    0,   59,    0,    0,    0,    0,\n",
              "            0,    0,    0,    0,    0,    0],\n",
              "        [   0,    0,    0,    3, 3013,    0,  133,    0,    9,    0,    0,\n",
              "            0,    0,    0,    0,    0,    0],\n",
              "        [   0,    0,    0,    0,    0,   43,    3,    0,    0,    0,    0,\n",
              "            0,    0,    0,    0,    0,    0],\n",
              "        [   0,    0,    0,    0,    0,    0, 1320,    0,    5,    0,    0,\n",
              "            0,    0,    0,    0,    0,    0],\n",
              "        [   0,    0,    0,    0,    0,    0,    0,  964,    0,    0,    0,\n",
              "            0,    0,    0,    0,    0,    0],\n",
              "        [   0,    0,    0,    0,    0,    0,    0,    0,  464,    0,    0,\n",
              "            0,    0,    0,    1,    0,    0],\n",
              "        [   0,    0,    0,    0,    0,    0,    0,    0,   55,   27,    0,\n",
              "            0,    0,    0,    0,    0,    0],\n",
              "        [   0,    0,    0,  107,    0,    0,   37,    0,    0,    0, 6673,\n",
              "            0,    0,    0,    0,    0,    0],\n",
              "        [   0,    0,    0,    7,    0,    0,    0,    0,   12,    0,    0,\n",
              "            3,    0,    0,    0,    0,    0],\n",
              "        [   0,    0,    0,    0,    0,    0,    0,    0,    0,    0,    0,\n",
              "            0,    0,    1,    0,    0,    0],\n",
              "        [   0,    0,    0,    0,    4,    0,    0,    0,    0,    0,    0,\n",
              "            0,    0,   28,    0,    3,    4],\n",
              "        [   0,    0,    0,    0,    0,    0,    0,    0,    2,    0,    0,\n",
              "            0,    0,    0,    8,    0,    0],\n",
              "        [   0,    0,   35,    0,    0,    0,    5,    0,    0,    0,    0,\n",
              "            0,    0,    0,    0,  225,    2],\n",
              "        [   0,    0,   96,    0,    0,    0,   34,    0,    0,    0,    0,\n",
              "            0,    0,    0,    0,    0,  155]]))"
            ]
          },
          "metadata": {},
          "execution_count": 11
        }
      ],
      "source": [
        "import pandas as pd\n",
        "from sklearn.model_selection import train_test_split\n",
        "from sklearn.metrics import accuracy_score, classification_report, confusion_matrix\n",
        "data = pd.read_csv('/content/complaints.csv')\n",
        "\n",
        "data_filtered = data.dropna(subset=['_source.issue', '_source.product'])\n",
        "X = data_filtered['_source.issue']\n",
        "y = data_filtered['_source.product']\n",
        "\n",
        "# Split the dataset into training and testing sets\n",
        "X_train, X_test, y_train, y_test = train_test_split(X, y, test_size=0.3, random_state=42)\n",
        "# Define the pipeline with TF-IDF and Naive Bayes\n",
        "pipeline = Pipeline([\n",
        "    ('tfidf', TfidfVectorizer(max_df=0.85, ngram_range=(1, 2))),\n",
        "    ('clf', MultinomialNB(alpha=0.5))\n",
        "])\n",
        "pipeline.fit(X_train, y_train)\n",
        "y_pred = pipeline.predict(X_test)\n",
        "accuracy = accuracy_score(y_test, y_pred)\n",
        "report = classification_report(y_test, y_pred)\n",
        "conf_matrix = confusion_matrix(y_test, y_pred)\n",
        "accuracy, report, conf_matrix\n"
      ]
    },
    {
      "cell_type": "markdown",
      "source": [
        "#\t**Provide insights into the most common types of inquiries and their associated keywords to inform support staff training and product/service improvements**"
      ],
      "metadata": {
        "id": "aZr5sQAwlZeC"
      }
    },
    {
      "cell_type": "code",
      "execution_count": 6,
      "metadata": {
        "colab": {
          "base_uri": "https://localhost:8080/"
        },
        "id": "EkmgMeyrluGs",
        "outputId": "a9cb3018-1255-49c6-c0a6-29ed3acc0d7f"
      },
      "outputs": [
        {
          "output_type": "stream",
          "name": "stdout",
          "text": [
            "Top keywords for 'Debt collection': ['attempts' 'collect' 'communication' 'cont' 'debt' 'disclosure'\n",
            " 'notification' 'owed' 'tactics' 'written']\n",
            "Top keywords for 'Credit card or prepaid card': ['account' 'card' 'credit' 'features' 'problem' 'problems' 'purchase'\n",
            " 'shown' 'statement' 'terms']\n",
            "Top keywords for 'Mortgage': ['account' 'collection' 'escrow' 'foreclosure' 'loan' 'modification'\n",
            " 'mortgage' 'payments' 'process' 'servicing']\n",
            "Top keywords for 'Checking or savings account': ['account' 'caused' 'charging' 'closing' 'company' 'funds' 'lender'\n",
            " 'managing' 'opening' 'problem']\n",
            "Top keywords for 'Credit reporting, credit repair services, or other personal consumer reports': ['company' 'credit' 'existing' 'improper' 'incorrect' 'information'\n",
            " 'investigation' 'problem' 'report' 'use']\n",
            "Top keywords for 'Vehicle loan or lease': ['end' 'information' 'lease' 'loan' 'managing' 'pay' 'problem' 'problems'\n",
            " 'report' 'struggling']\n",
            "Top keywords for 'Money transfer, virtual currency, or money service': ['available' 'fraud' 'money' 'problem' 'promised' 'scam' 'service'\n",
            " 'transaction' 'transactions' 'unauthorized']\n",
            "Top keywords for 'Student loan': ['dealing' 'getting' 'lender' 'loan' 'pay' 'problems' 'repay' 'repaying'\n",
            " 'servicer' 'unable']\n",
            "Top keywords for 'Consumer Loan': ['credit' 'lease' 'line' 'loan' 'managing' 'pay' 'problems' 'shopping'\n",
            " 'taking' 'unable']\n",
            "Top keywords for 'Credit card': ['account' 'apr' 'billing' 'credit' 'disputes' 'embezzlement' 'fraud'\n",
            " 'identity' 'rate' 'theft']\n",
            "Top keywords for 'Bank account or service': ['account' 'caused' 'closing' 'deposits' 'funds' 'low' 'management'\n",
            " 'opening' 'problems' 'withdrawals']\n",
            "Top keywords for 'Payday loan, title loan, or personal loan': ['charged' 'credit' 'didn' 'expect' 'fees' 'getting' 'line' 'loan'\n",
            " 'payoff' 'problem']\n",
            "Top keywords for 'Money transfers': ['available' 'charged' 'fraud' 'issues' 'money' 'promised' 'received'\n",
            " 'scam' 'service' 'transaction']\n",
            "Top keywords for 'Credit reporting': ['company' 'credit' 'identity' 'improper' 'incorrect' 'information'\n",
            " 'investigation' 'report' 'reporting' 'use']\n",
            "Top keywords for 'Payday loan': ['applied' 'apply' 'contact' 'did' 'didn' 'lender' 'loan' 'money'\n",
            " 'receive' 'received']\n",
            "Top keywords for 'Prepaid card': ['account' 'advertising' 'closing' 'disclosures' 'fees' 'fraud' 'issues'\n",
            " 'managing' 'opening' 'scam']\n",
            "Top keywords for 'Other financial service': ['customer' 'excessive' 'fees' 'fraud' 'incorrect' 'lost' 'relations'\n",
            " 'scam' 'service' 'stolen']\n"
          ]
        }
      ],
      "source": [
        "from sklearn.feature_extraction.text import CountVectorizer\n",
        "# Fit a CountVectorizer to find the most common words in each category\n",
        "vectorizer = CountVectorizer(stop_words='english', max_features=10)\n",
        "# Transform and print top keywords for each category\n",
        "for category in data['category'].unique():\n",
        "    cat_data = data[data['category'] == category]['inquiry_text']\n",
        "    cat_keywords = vectorizer.fit_transform(cat_data)\n",
        "    print(f\"Top keywords for '{category}':\", vectorizer.get_feature_names_out())\n"
      ]
    },
    {
      "cell_type": "markdown",
      "source": [
        "# **classifies incoming support tickets in real-time and routes them to the appropriate support teams.**"
      ],
      "metadata": {
        "id": "l9shuXrblH-F"
      }
    },
    {
      "cell_type": "code",
      "execution_count": 4,
      "metadata": {
        "colab": {
          "base_uri": "https://localhost:8080/"
        },
        "id": "jMBaTACJlZZu",
        "outputId": "631eae0f-056a-4b99-e5fd-1360a5cebc6d"
      },
      "outputs": [
        {
          "output_type": "stream",
          "name": "stdout",
          "text": [
            "Category: Mortgage\n"
          ]
        }
      ],
      "source": [
        "def classify_inquiry(inquiry_text):\n",
        "    \"\"\"Classifies a single inquiry into a category.\"\"\"\n",
        "    return pipeline.predict([inquiry_text])[0]\n",
        "# Test the function\n",
        "sample_inquiry = \"How do I reset my password?\"\n",
        "print(\"Category:\", classify_inquiry(sample_inquiry))\n"
      ]
    },
    {
      "cell_type": "markdown",
      "source": [
        "#**# APPLYING ALL THE MODELS TOGETHER WE FOUND OUT THAT WHILE UISNG XGBOOST THE XGBOOST CLASSIFIER WAS EXPECTING NUMERICAL LABELS (E.G. INTEGERS) BUT OUT DATASET HAD CATEGORIAL DATA SO WE CONVERTED THE STRING INTO NUMERIC**"
      ],
      "metadata": {
        "id": "vLOxFnstgfVb"
      }
    },
    {
      "cell_type": "code",
      "source": [
        "from sklearn.preprocessing import LabelEncoder\n",
        "from sklearn.linear_model import LogisticRegression\n",
        "from sklearn.ensemble import RandomForestClassifier\n",
        "from sklearn.svm import SVC\n",
        "from xgboost import XGBClassifier\n",
        "from sklearn.model_selection import GridSearchCV\n",
        "from sklearn.metrics import accuracy_score, classification_report\n",
        "label_encoder = LabelEncoder()\n",
        "y_train_encoded = label_encoder.fit_transform(y_train)\n",
        "y_test_encoded = label_encoder.transform(y_test)\n",
        "# Define model options with parameter grids for each\n",
        "models = {\n",
        "    'Logistic Regression': (LogisticRegression(), {'clf__C': [0.1, 1.0, 10]}),\n",
        "    'Random Forest': (RandomForestClassifier(), {'clf__n_estimators': [50, 100], 'clf__max_depth': [10, 20]}),\n",
        "    'SVM': (SVC(), {'clf__C': [0.1, 1.0], 'clf__kernel': ['linear', 'rbf']}),\n",
        "    'XGBoost': (XGBClassifier(use_label_encoder=False, eval_metric='mlogloss'), {'clf__n_estimators': [50, 100], 'clf__max_depth': [3, 5]})\n",
        "}\n",
        "# Evaluate each model\n",
        "for model_name, (model, param_grid) in models.items():\n",
        "    print(f\"Evaluating {model_name}...\")\n",
        "\n",
        "    pipeline = Pipeline([\n",
        "        ('tfidf', TfidfVectorizer(max_df=0.85, ngram_range=(1, 2))),\n",
        "        ('clf', model)\n",
        "    ])\n",
        "    grid_search = GridSearchCV(pipeline, param_grid=param_grid, cv=3, scoring='accuracy', n_jobs=-1)\n",
        "    grid_search.fit(X_train, y_train_encoded)\n",
        "    best_model = grid_search.best_estimator_\n",
        "    y_pred = best_model.predict(X_test)\n",
        "    y_pred_labels = label_encoder.inverse_transform(y_pred)\n",
        "    accuracy = accuracy_score(y_test_encoded, y_pred)\n",
        "\n",
        "    print(f\"{model_name} Accuracy: {accuracy:.4f}\")\n",
        "    print(classification_report(y_test, y_pred_labels))\n",
        "    print(\"\\n\")\n"
      ],
      "metadata": {
        "colab": {
          "base_uri": "https://localhost:8080/"
        },
        "id": "DEKvZUC1ZpNc",
        "outputId": "b727852b-7c53-40c7-faae-a661793ede05"
      },
      "execution_count": 13,
      "outputs": [
        {
          "output_type": "stream",
          "name": "stdout",
          "text": [
            "Evaluating Logistic Regression...\n",
            "Logistic Regression Accuracy: 0.9761\n"
          ]
        },
        {
          "output_type": "stream",
          "name": "stderr",
          "text": [
            "/usr/local/lib/python3.10/dist-packages/sklearn/metrics/_classification.py:1531: UndefinedMetricWarning: Precision is ill-defined and being set to 0.0 in labels with no predicted samples. Use `zero_division` parameter to control this behavior.\n",
            "  _warn_prf(average, modifier, f\"{metric.capitalize()} is\", len(result))\n",
            "/usr/local/lib/python3.10/dist-packages/sklearn/metrics/_classification.py:1531: UndefinedMetricWarning: Precision is ill-defined and being set to 0.0 in labels with no predicted samples. Use `zero_division` parameter to control this behavior.\n",
            "  _warn_prf(average, modifier, f\"{metric.capitalize()} is\", len(result))\n",
            "/usr/local/lib/python3.10/dist-packages/sklearn/metrics/_classification.py:1531: UndefinedMetricWarning: Precision is ill-defined and being set to 0.0 in labels with no predicted samples. Use `zero_division` parameter to control this behavior.\n",
            "  _warn_prf(average, modifier, f\"{metric.capitalize()} is\", len(result))\n"
          ]
        },
        {
          "output_type": "stream",
          "name": "stdout",
          "text": [
            "                                                                              precision    recall  f1-score   support\n",
            "\n",
            "                                                     Bank account or service       1.00      1.00      1.00      2897\n",
            "                                                 Checking or savings account       1.00      1.00      1.00      3625\n",
            "                                                               Consumer Loan       0.71      0.99      0.83       325\n",
            "                                                                 Credit card       0.96      1.00      0.98      3166\n",
            "                                                 Credit card or prepaid card       1.00      0.95      0.98      3158\n",
            "                                                            Credit reporting       1.00      0.98      0.99        46\n",
            "Credit reporting, credit repair services, or other personal consumer reports       0.86      1.00      0.92      1325\n",
            "                                                             Debt collection       1.00      1.00      1.00       964\n",
            "                          Money transfer, virtual currency, or money service       0.85      1.00      0.92       465\n",
            "                                                             Money transfers       1.00      0.33      0.50        82\n",
            "                                                                    Mortgage       1.00      0.98      0.99      6817\n",
            "                                                     Other financial service       1.00      0.14      0.24        22\n",
            "                                                                 Payday loan       0.00      0.00      0.00         1\n",
            "                                   Payday loan, title loan, or personal loan       0.91      0.77      0.83        39\n",
            "                                                                Prepaid card       1.00      0.80      0.89        10\n",
            "                                                                Student loan       1.00      0.85      0.92       267\n",
            "                                                       Vehicle loan or lease       0.97      0.54      0.70       285\n",
            "\n",
            "                                                                    accuracy                           0.98     23494\n",
            "                                                                   macro avg       0.90      0.78      0.80     23494\n",
            "                                                                weighted avg       0.98      0.98      0.98     23494\n",
            "\n",
            "\n",
            "\n",
            "Evaluating Random Forest...\n",
            "Random Forest Accuracy: 0.9246\n"
          ]
        },
        {
          "output_type": "stream",
          "name": "stderr",
          "text": [
            "/usr/local/lib/python3.10/dist-packages/sklearn/metrics/_classification.py:1531: UndefinedMetricWarning: Precision is ill-defined and being set to 0.0 in labels with no predicted samples. Use `zero_division` parameter to control this behavior.\n",
            "  _warn_prf(average, modifier, f\"{metric.capitalize()} is\", len(result))\n",
            "/usr/local/lib/python3.10/dist-packages/sklearn/metrics/_classification.py:1531: UndefinedMetricWarning: Precision is ill-defined and being set to 0.0 in labels with no predicted samples. Use `zero_division` parameter to control this behavior.\n",
            "  _warn_prf(average, modifier, f\"{metric.capitalize()} is\", len(result))\n",
            "/usr/local/lib/python3.10/dist-packages/sklearn/metrics/_classification.py:1531: UndefinedMetricWarning: Precision is ill-defined and being set to 0.0 in labels with no predicted samples. Use `zero_division` parameter to control this behavior.\n",
            "  _warn_prf(average, modifier, f\"{metric.capitalize()} is\", len(result))\n"
          ]
        },
        {
          "output_type": "stream",
          "name": "stdout",
          "text": [
            "                                                                              precision    recall  f1-score   support\n",
            "\n",
            "                                                     Bank account or service       1.00      1.00      1.00      2897\n",
            "                                                 Checking or savings account       1.00      1.00      1.00      3625\n",
            "                                                               Consumer Loan       0.72      0.77      0.75       325\n",
            "                                                                 Credit card       0.69      1.00      0.82      3166\n",
            "                                                 Credit card or prepaid card       1.00      0.90      0.95      3158\n",
            "                                                            Credit reporting       0.00      0.00      0.00        46\n",
            "Credit reporting, credit repair services, or other personal consumer reports       0.86      0.97      0.91      1325\n",
            "                                                             Debt collection       1.00      0.64      0.78       964\n",
            "                          Money transfer, virtual currency, or money service       0.89      0.73      0.80       465\n",
            "                                                             Money transfers       0.00      0.00      0.00        82\n",
            "                                                                    Mortgage       1.00      0.96      0.98      6817\n",
            "                                                     Other financial service       0.00      0.00      0.00        22\n",
            "                                                                 Payday loan       0.00      0.00      0.00         1\n",
            "                                   Payday loan, title loan, or personal loan       0.00      0.00      0.00        39\n",
            "                                                                Prepaid card       0.00      0.00      0.00        10\n",
            "                                                                Student loan       1.00      0.19      0.32       267\n",
            "                                                       Vehicle loan or lease       0.97      0.54      0.70       285\n",
            "\n",
            "                                                                    accuracy                           0.92     23494\n",
            "                                                                   macro avg       0.60      0.51      0.53     23494\n",
            "                                                                weighted avg       0.94      0.92      0.92     23494\n",
            "\n",
            "\n",
            "\n",
            "Evaluating SVM...\n",
            "SVM Accuracy: 0.9763\n"
          ]
        },
        {
          "output_type": "stream",
          "name": "stderr",
          "text": [
            "/usr/local/lib/python3.10/dist-packages/sklearn/metrics/_classification.py:1531: UndefinedMetricWarning: Precision is ill-defined and being set to 0.0 in labels with no predicted samples. Use `zero_division` parameter to control this behavior.\n",
            "  _warn_prf(average, modifier, f\"{metric.capitalize()} is\", len(result))\n",
            "/usr/local/lib/python3.10/dist-packages/sklearn/metrics/_classification.py:1531: UndefinedMetricWarning: Precision is ill-defined and being set to 0.0 in labels with no predicted samples. Use `zero_division` parameter to control this behavior.\n",
            "  _warn_prf(average, modifier, f\"{metric.capitalize()} is\", len(result))\n",
            "/usr/local/lib/python3.10/dist-packages/sklearn/metrics/_classification.py:1531: UndefinedMetricWarning: Precision is ill-defined and being set to 0.0 in labels with no predicted samples. Use `zero_division` parameter to control this behavior.\n",
            "  _warn_prf(average, modifier, f\"{metric.capitalize()} is\", len(result))\n"
          ]
        },
        {
          "output_type": "stream",
          "name": "stdout",
          "text": [
            "                                                                              precision    recall  f1-score   support\n",
            "\n",
            "                                                     Bank account or service       1.00      1.00      1.00      2897\n",
            "                                                 Checking or savings account       1.00      1.00      1.00      3625\n",
            "                                                               Consumer Loan       0.71      0.99      0.83       325\n",
            "                                                                 Credit card       0.96      1.00      0.98      3166\n",
            "                                                 Credit card or prepaid card       1.00      0.96      0.98      3158\n",
            "                                                            Credit reporting       1.00      0.98      0.99        46\n",
            "Credit reporting, credit repair services, or other personal consumer reports       0.86      1.00      0.92      1325\n",
            "                                                             Debt collection       1.00      1.00      1.00       964\n",
            "                          Money transfer, virtual currency, or money service       0.85      1.00      0.92       465\n",
            "                                                             Money transfers       1.00      0.33      0.50        82\n",
            "                                                                    Mortgage       1.00      0.98      0.99      6817\n",
            "                                                     Other financial service       1.00      0.23      0.37        22\n",
            "                                                                 Payday loan       0.00      0.00      0.00         1\n",
            "                                   Payday loan, title loan, or personal loan       0.91      0.77      0.83        39\n",
            "                                                                Prepaid card       1.00      0.80      0.89        10\n",
            "                                                                Student loan       1.00      0.85      0.92       267\n",
            "                                                       Vehicle loan or lease       0.97      0.54      0.70       285\n",
            "\n",
            "                                                                    accuracy                           0.98     23494\n",
            "                                                                   macro avg       0.90      0.79      0.81     23494\n",
            "                                                                weighted avg       0.98      0.98      0.98     23494\n",
            "\n",
            "\n",
            "\n",
            "Evaluating XGBoost...\n"
          ]
        },
        {
          "output_type": "stream",
          "name": "stderr",
          "text": [
            "/usr/local/lib/python3.10/dist-packages/xgboost/core.py:158: UserWarning: [18:08:15] WARNING: /workspace/src/learner.cc:740: \n",
            "Parameters: { \"use_label_encoder\" } are not used.\n",
            "\n",
            "  warnings.warn(smsg, UserWarning)\n"
          ]
        },
        {
          "output_type": "stream",
          "name": "stdout",
          "text": [
            "XGBoost Accuracy: 0.9762\n",
            "                                                                              precision    recall  f1-score   support\n",
            "\n",
            "                                                     Bank account or service       1.00      1.00      1.00      2897\n",
            "                                                 Checking or savings account       1.00      1.00      1.00      3625\n",
            "                                                               Consumer Loan       0.71      0.99      0.83       325\n",
            "                                                                 Credit card       0.96      1.00      0.98      3166\n",
            "                                                 Credit card or prepaid card       1.00      0.95      0.98      3158\n",
            "                                                            Credit reporting       1.00      0.98      0.99        46\n",
            "Credit reporting, credit repair services, or other personal consumer reports       0.86      1.00      0.92      1325\n",
            "                                                             Debt collection       1.00      1.00      1.00       964\n",
            "                          Money transfer, virtual currency, or money service       0.85      1.00      0.92       465\n",
            "                                                             Money transfers       1.00      0.33      0.50        82\n",
            "                                                                    Mortgage       1.00      0.98      0.99      6817\n",
            "                                                     Other financial service       1.00      0.23      0.37        22\n",
            "                                                                 Payday loan       0.33      1.00      0.50         1\n",
            "                                   Payday loan, title loan, or personal loan       1.00      0.77      0.87        39\n",
            "                                                                Prepaid card       1.00      0.80      0.89        10\n",
            "                                                                Student loan       1.00      0.85      0.92       267\n",
            "                                                       Vehicle loan or lease       0.97      0.54      0.70       285\n",
            "\n",
            "                                                                    accuracy                           0.98     23494\n",
            "                                                                   macro avg       0.92      0.85      0.84     23494\n",
            "                                                                weighted avg       0.98      0.98      0.98     23494\n",
            "\n",
            "\n",
            "\n"
          ]
        }
      ]
    },
    {
      "cell_type": "code",
      "source": [
        "import matplotlib.pyplot as plt\n",
        "model_names = ['Logistic Regression', 'Random Forest', 'SVM', 'XGBoost']\n",
        "accuracies = [0.9761, 0.9246, 0.9763, 0.9762]\n",
        "plt.figure(figsize=(10, 6))\n",
        "plt.bar(model_names, accuracies, color='skyblue')\n",
        "plt.xlabel('Model')\n",
        "plt.ylabel('Accuracy')\n",
        "plt.title('Model Accuracy Comparison')\n",
        "plt.ylim([0, 1])\n",
        "plt.xticks(rotation=45)\n",
        "plt.show()\n"
      ],
      "metadata": {
        "colab": {
          "base_uri": "https://localhost:8080/",
          "height": 654
        },
        "id": "MmdaG74XbvJy",
        "outputId": "69b46453-823c-4b70-c70f-4ea151747ceb"
      },
      "execution_count": 15,
      "outputs": [
        {
          "output_type": "display_data",
          "data": {
            "text/plain": [
              "<Figure size 1000x600 with 1 Axes>"
            ],
            "image/png": "[encoded data removed]"
          },
          "metadata": {}
        }
      ]
    }
  ],
  "metadata": {
    "accelerator": "GPU",
    "colab": {
      "gpuType": "T4",
      "provenance": []
    },
    "kernelspec": {
      "display_name": "Python 3",
      "name": "python3"
    },
    "language_info": {
      "name": "python"
    }
  },
  "nbformat": 4,
  "nbformat_minor": 0
}